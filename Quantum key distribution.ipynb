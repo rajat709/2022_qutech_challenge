{
 "cells": [
  {
   "cell_type": "markdown",
   "id": "7141db5b-995f-4824-b669-6686320634fe",
   "metadata": {
    "tags": []
   },
   "source": [
    "# QUANTUM KEY DISTRIBUTION (BB84 Protocol)!"
   ]
  },
  {
   "cell_type": "code",
   "execution_count": null,
   "id": "3661b788-e227-40e7-91a3-96a5aadac36b",
   "metadata": {},
   "outputs": [],
   "source": [
    "from quantuminspire.credentials import save_account\n",
    "save_account('Enter API')\n",
    "from quantuminspire.qiskit import QI\n",
    "QI.set_authentication()\n",
    "from quantuminspire.credentials import get_token_authentication\n",
    "auth = get_token_authentication()"
   ]
  },
  {
   "cell_type": "markdown",
   "id": "32291487-8bb7-4ecf-bfc5-086c63145000",
   "metadata": {},
   "source": [
    "Here we take 2 classical bit(a and b) and 1 qubit!<br>\n",
    "so all possible outcomes are:<br>\n",
    "[a , b]  = final state(phi)<br>\n",
    "1. [0, 0] = |0><br>\n",
    "2. [0, 1] = |+><br>\n",
    "3. [1, 0] = |1><br>\n",
    "4. [1, 1] = |-><br>"
   ]
  },
  {
   "cell_type": "code",
   "execution_count": null,
   "id": "97b56a2e-22a5-432e-aa13-b71652b56ec9",
   "metadata": {},
   "outputs": [],
   "source": [
    "from qiskit import *\n",
    "from getpass import getpass\n",
    "from coreapi.auth import BasicAuthentication\n",
    "from quantuminspire.api import QuantumInspireAPI\n",
    "\n",
    "a = input(\"Alice a: \")\n",
    "b = input(\"Alice b: \")\n",
    "B = input(\"Bob   B: \")\n",
    "\n",
    "print('Enter mail address')\n",
    "email = input()\n",
    "\n",
    "print('Enter password')\n",
    "password = getpass()\n",
    "\n",
    "server_url = r'https://api.quantum-inspire.com'\n",
    "authentication = BasicAuthentication(email, password)\n",
    "qi = QuantumInspireAPI(server_url, authentication, 'test')\n",
    "\n",
    "qasm = '''version 1.0\n",
    "\n",
    "qubits 1\n",
    "\n",
    "'''\n",
    "\n",
    "if a==\"1\":\n",
    "    qasm=qasm+'''\n",
    "    X q[0] '''\n",
    "\n",
    "if b==\"1\":\n",
    "    qasm=qasm+'''\n",
    "    H q[0] '''\n",
    "    \n",
    "if B==\"1\":\n",
    "    qasm=qasm+'''\n",
    "    H q[0] \n",
    "    measure q[0] \n",
    "    '''\n",
    "    \n",
    "backend_type = qi.get_backend_type_by_name('QX single-node simulator') #here i have used simulator!\n",
    "result = qi.execute_qasm(qasm, backend_type=backend_type, number_of_shots=1024)\n",
    "\n",
    "if result.get('histogram', {}):\n",
    "    print(result['histogram'])\n",
    "else:\n",
    "    reason = result.get('raw_text', 'No reason in result structure.')\n",
    "    print(f'Result structure does not contain proper histogram data. {reason}')"
   ]
  },
  {
   "cell_type": "markdown",
   "id": "af46d6a6-0a1d-4238-95d6-ee3983be33c7",
   "metadata": {},
   "source": [
    "Now bob use another HGate, this will increase the further number of possibilities!<br>\n",
    "Now all possible states are:<br>\n",
    "[a , b, B] = final state(phi)<br>\n",
    "1. [0, 0, 0] = |0><br>\n",
    "2. [0, 0, 1] = |+><br>\n",
    "3. [0, 1, 0] = |+><br>\n",
    "4. [0, 1, 1] = |0><br>\n",
    "5. [1, 0, 0] = |1><br>\n",
    "6. [1, 0, 1] = |-><br>\n",
    "7. [1, 1, 0] = |-><br>\n",
    "8. [1, 1, 1] = |1><br>"
   ]
  },
  {
   "cell_type": "markdown",
   "id": "383366a1-9253-41c1-811a-7c4cfa900fcd",
   "metadata": {},
   "source": [
    "Now bob measured the qubits, after that alice send her classical bit 'b' to bob, to check her classical bit with his classical bit 'B' whether they are same or not so this give 50-50% chance. and than bob announces alice wheather they are same or not.<br>\n",
    "when 'b = B' the state of the qubit is always identical to classical bit 'a'.<br>\n",
    "so now alice and bob will ignore where 'b is not equal to B' so only{1,4,5,8} possibilities.<br>\n",
    "now they generate key and add 'a' and measured state of bob to the key and the end they are identical.<br>\n",
    "same will be applied when 'b' is not equal to 'B'.<br>\n",
    "so by this way alice and bob communicate with each other without any problem of eavesdroppers!!!"
   ]
  }
 ],
 "metadata": {
  "kernelspec": {
   "display_name": "Qiskit v0.34.1 (ipykernel)",
   "language": "python",
   "name": "python3"
  },
  "language_info": {
   "codemirror_mode": {
    "name": "ipython",
    "version": 3
   },
   "file_extension": ".py",
   "mimetype": "text/x-python",
   "name": "python",
   "nbconvert_exporter": "python",
   "pygments_lexer": "ipython3",
   "version": "3.8.12"
  },
  "widgets": {
   "application/vnd.jupyter.widget-state+json": {
    "state": {},
    "version_major": 2,
    "version_minor": 0
   }
  }
 },
 "nbformat": 4,
 "nbformat_minor": 5
}
